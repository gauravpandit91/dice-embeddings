{
 "cells": [
  {
   "cell_type": "markdown",
   "id": "f096e66a",
   "metadata": {},
   "source": [
    "# Train and Evaluate a KGE model"
   ]
  },
  {
   "cell_type": "code",
   "execution_count": 3,
   "id": "913b10b7",
   "metadata": {
    "tags": []
   },
   "outputs": [],
   "source": [
    "# Install dicee \n",
    "!pip install dicee"
   ]
  },
  {
   "cell_type": "code",
   "execution_count": 1,
   "id": "cf3fe02b",
   "metadata": {
    "tags": []
   },
   "outputs": [
    {
     "name": "stderr",
     "output_type": "stream",
     "text": [
      "/upb/users/n/nkouagou/profiles/unix/cs/anaconda3/envs/daikiri/lib/python3.9/site-packages/torchvision/io/image.py:11: UserWarning: Failed to load image Python extension: /local/upb/users/n/nkouagou/profiles/unix/cs/anaconda3/envs/daikiri/lib/python3.9/site-packages/torchvision/image.so: undefined symbol: _ZNK3c1010TensorImpl36is_contiguous_nondefault_policy_implENS_12MemoryFormatE\n",
      "  warn(f\"Failed to load image Python extension: {e}\")\n"
     ]
    }
   ],
   "source": [
    "from dicee import KGE, Execute\n",
    "from dicee.config import Args"
   ]
  },
  {
   "cell_type": "markdown",
   "id": "168ae7ac",
   "metadata": {},
   "source": [
    "# How to Train"
   ]
  },
  {
   "cell_type": "code",
   "execution_count": 2,
   "id": "66a3f46f",
   "metadata": {
    "tags": []
   },
   "outputs": [
    {
     "data": {
      "text/plain": [
       "<dicee.config.Args at 0x7f9b20248eb0>"
      ]
     },
     "execution_count": 2,
     "metadata": {},
     "output_type": "execute_result"
    }
   ],
   "source": [
    "# (1) Load Default Params\n",
    "args=Args()\n",
    "# (2) Select a Dataset and a KGE\n",
    "args.path_dataset_folder=\"../KGs/UMLS\"\n",
    "args.model=\"FMult\"#\"AConEx\"\n",
    "args.embedding_dim=32\n",
    "args.num_epochs=256\n",
    "args.num_of_output_channels= 32\n",
    "args.batch_size=1024\n",
    "args.scoring_technique=\"NegSample\"\n",
    "args.neg_ratio = 1\n",
    "args.eval_model=\"train_val_test\"\n",
    "args"
   ]
  },
  {
   "cell_type": "code",
   "execution_count": 3,
   "id": "c21f128d",
   "metadata": {
    "tags": []
   },
   "outputs": [
    {
     "name": "stdout",
     "output_type": "stream",
     "text": [
      "acquired_abnormality\tlocation_of\texperimental_model_of_disease\n",
      "anatomical_abnormality\tmanifestation_of\tphysiologic_function\n",
      "alga\tisa\tentity\n",
      "mental_or_behavioral_dysfunction\taffects\texperimental_model_of_disease\n",
      "health_care_activity\tassociated_with\tanatomical_abnormality\n",
      "population_group\tinteracts_with\tage_group\n",
      "clinical_attribute\tresult_of\tnatural_phenomenon_or_process\n",
      "body_part_organ_or_organ_component\tlocation_of\tbiologic_function\n",
      "biologically_active_substance\tcomplicates\tanatomical_abnormality\n",
      "disease_or_syndrome\tresult_of\tacquired_abnormality\n"
     ]
    }
   ],
   "source": [
    "!head ../KGs/UMLS/train.txt"
   ]
  },
  {
   "cell_type": "code",
   "execution_count": 4,
   "id": "885bc8da",
   "metadata": {
    "tags": []
   },
   "outputs": [],
   "source": [
    "executor=Execute(args)"
   ]
  },
  {
   "cell_type": "code",
   "execution_count": 5,
   "id": "8f39f407",
   "metadata": {
    "tags": []
   },
   "outputs": [
    {
     "name": "stdout",
     "output_type": "stream",
     "text": [
      "Start time:2023-04-12 11:38:01.458296\n",
      "*** Read or Load Knowledge Graph  ***\n",
      "*** Reading ../KGs/UMLS/valid.txt with Pandas ***\n",
      "Reading with pandas.read_csv with sep ** s+ ** ...\n",
      "Took 0.0046 seconds | Current Memory Usage  522.3 in MB\n",
      "*** Reading ../KGs/UMLS/test.txt with Pandas ***\n",
      "Reading with pandas.read_csv with sep ** s+ ** ...\n",
      "Took 0.0022 seconds | Current Memory Usage  522.4 in MB\n",
      "*** Reading ../KGs/UMLS/train.txt with Pandas ***\n",
      "Reading with pandas.read_csv with sep ** s+ ** ...\n",
      "Took 0.0061 seconds | Current Memory Usage  522.91 in MB\n",
      "\n",
      "Concatenating data to obtain index...\n",
      "Done !\n",
      "\n",
      "Creating a mapping from entities to integer indexes...\n",
      "Done !\n",
      "\n",
      "Done ! 0.006 seconds\n",
      "\n",
      "Done !\n",
      "\n",
      "Done !\n",
      "\n",
      "Took 0.0136 seconds | Current Memory Usage  523.92 in MB\n",
      "Data Type conversion...\n",
      "Submit er-vocab, re-vocab, and ee-vocab via  ProcessPoolExecutor...\n",
      "Preprocessing took: 0.048 seconds\n",
      "\n",
      "------------------- Description of Dataset ../KGs/UMLS -------------------\n",
      "Number of entities:135\n",
      "Number of relations:46\n",
      "Number of triples on train set:5216\n",
      "Number of triples on valid set:652\n",
      "Number of triples on test set:661\n",
      "Entity Index:0.00000 in GB\n",
      "Relation Index:0.00000 in GB\n",
      "Train set :0.00003 in GB\n",
      "\n",
      "# of CPUs:64 | # of GPUs:2 | # of CPUs for dataloader:0\n",
      "NVIDIA RTX A5000\n",
      "NVIDIA RTX A5000\n",
      "------------------- Train -------------------\n",
      "Initializing TorchTrainer CPU Trainer...\tTook 0.0003 seconds | Current Memory Usage  542.55 in MB\n",
      "Initializing Model...\t"
     ]
    },
    {
     "ename": "ValueError",
     "evalue": "",
     "output_type": "error",
     "traceback": [
      "\u001b[0;31m---------------------------------------------------------------------------\u001b[0m",
      "\u001b[0;31mValueError\u001b[0m                                Traceback (most recent call last)",
      "Cell \u001b[0;32mIn[5], line 1\u001b[0m\n\u001b[0;32m----> 1\u001b[0m report\u001b[38;5;241m=\u001b[39m\u001b[43mexecutor\u001b[49m\u001b[38;5;241;43m.\u001b[39;49m\u001b[43mstart\u001b[49m\u001b[43m(\u001b[49m\u001b[43m)\u001b[49m\n",
      "File \u001b[0;32m~/anaconda3/envs/daikiri/lib/python3.9/site-packages/dicee/executer.py:195\u001b[0m, in \u001b[0;36mExecute.start\u001b[0;34m(self)\u001b[0m\n\u001b[1;32m    190\u001b[0m \u001b[38;5;28mself\u001b[39m\u001b[38;5;241m.\u001b[39mtrainer \u001b[38;5;241m=\u001b[39m DICE_Trainer(args\u001b[38;5;241m=\u001b[39m\u001b[38;5;28mself\u001b[39m\u001b[38;5;241m.\u001b[39margs,\n\u001b[1;32m    191\u001b[0m                             is_continual_training\u001b[38;5;241m=\u001b[39m\u001b[38;5;28mself\u001b[39m\u001b[38;5;241m.\u001b[39mis_continual_training,\n\u001b[1;32m    192\u001b[0m                             storage_path\u001b[38;5;241m=\u001b[39m\u001b[38;5;28mself\u001b[39m\u001b[38;5;241m.\u001b[39mstorage_path,\n\u001b[1;32m    193\u001b[0m                             evaluator\u001b[38;5;241m=\u001b[39m\u001b[38;5;28mself\u001b[39m\u001b[38;5;241m.\u001b[39mevaluator)\n\u001b[1;32m    194\u001b[0m \u001b[38;5;66;03m# (4) Start the training\u001b[39;00m\n\u001b[0;32m--> 195\u001b[0m \u001b[38;5;28mself\u001b[39m\u001b[38;5;241m.\u001b[39mtrained_model, form_of_labelling \u001b[38;5;241m=\u001b[39m \u001b[38;5;28;43mself\u001b[39;49m\u001b[38;5;241;43m.\u001b[39;49m\u001b[43mtrainer\u001b[49m\u001b[38;5;241;43m.\u001b[39;49m\u001b[43mstart\u001b[49m\u001b[43m(\u001b[49m\u001b[43mdataset\u001b[49m\u001b[38;5;241;43m=\u001b[39;49m\u001b[38;5;28;43mself\u001b[39;49m\u001b[38;5;241;43m.\u001b[39;49m\u001b[43mdataset\u001b[49m\u001b[43m)\u001b[49m\n\u001b[1;32m    196\u001b[0m \u001b[38;5;28;01mreturn\u001b[39;00m \u001b[38;5;28mself\u001b[39m\u001b[38;5;241m.\u001b[39mend(start_time, form_of_labelling)\n",
      "File \u001b[0;32m~/anaconda3/envs/daikiri/lib/python3.9/site-packages/dicee/trainer/dice_trainer.py:205\u001b[0m, in \u001b[0;36mDICE_Trainer.start\u001b[0;34m(self, dataset)\u001b[0m\n\u001b[1;32m    203\u001b[0m \u001b[38;5;28mself\u001b[39m\u001b[38;5;241m.\u001b[39mtrainer: Union[TorchTrainer, TorchDDPTrainer, pl\u001b[38;5;241m.\u001b[39mTrainer]\n\u001b[1;32m    204\u001b[0m \u001b[38;5;28mself\u001b[39m\u001b[38;5;241m.\u001b[39mtrainer \u001b[38;5;241m=\u001b[39m \u001b[38;5;28mself\u001b[39m\u001b[38;5;241m.\u001b[39minitialize_trainer(callbacks\u001b[38;5;241m=\u001b[39mget_callbacks(\u001b[38;5;28mself\u001b[39m\u001b[38;5;241m.\u001b[39margs), plugins\u001b[38;5;241m=\u001b[39m[])\n\u001b[0;32m--> 205\u001b[0m model, form_of_labelling \u001b[38;5;241m=\u001b[39m \u001b[38;5;28;43mself\u001b[39;49m\u001b[38;5;241;43m.\u001b[39;49m\u001b[43minitialize_or_load_model\u001b[49m\u001b[43m(\u001b[49m\u001b[43m)\u001b[49m\n\u001b[1;32m    206\u001b[0m \u001b[38;5;28;01massert\u001b[39;00m \u001b[38;5;28mself\u001b[39m\u001b[38;5;241m.\u001b[39margs\u001b[38;5;241m.\u001b[39mscoring_technique \u001b[38;5;129;01min\u001b[39;00m [\u001b[38;5;124m'\u001b[39m\u001b[38;5;124mKvsSample\u001b[39m\u001b[38;5;124m'\u001b[39m, \u001b[38;5;124m'\u001b[39m\u001b[38;5;124m1vsAll\u001b[39m\u001b[38;5;124m'\u001b[39m, \u001b[38;5;124m'\u001b[39m\u001b[38;5;124mKvsAll\u001b[39m\u001b[38;5;124m'\u001b[39m, \u001b[38;5;124m'\u001b[39m\u001b[38;5;124mNegSample\u001b[39m\u001b[38;5;124m'\u001b[39m]\n\u001b[1;32m    209\u001b[0m \u001b[38;5;28mself\u001b[39m\u001b[38;5;241m.\u001b[39mtrainer\u001b[38;5;241m.\u001b[39mevaluator\u001b[38;5;241m=\u001b[39m\u001b[38;5;28mself\u001b[39m\u001b[38;5;241m.\u001b[39mevaluator\n",
      "File \u001b[0;32m~/anaconda3/envs/daikiri/lib/python3.9/site-packages/dicee/static_funcs.py:24\u001b[0m, in \u001b[0;36mtimeit.<locals>.timeit_wrapper\u001b[0;34m(*args, **kwargs)\u001b[0m\n\u001b[1;32m     21\u001b[0m \u001b[38;5;129m@functools\u001b[39m\u001b[38;5;241m.\u001b[39mwraps(func)\n\u001b[1;32m     22\u001b[0m \u001b[38;5;28;01mdef\u001b[39;00m \u001b[38;5;21mtimeit_wrapper\u001b[39m(\u001b[38;5;241m*\u001b[39margs, \u001b[38;5;241m*\u001b[39m\u001b[38;5;241m*\u001b[39mkwargs):\n\u001b[1;32m     23\u001b[0m     start_time \u001b[38;5;241m=\u001b[39m time\u001b[38;5;241m.\u001b[39mperf_counter()\n\u001b[0;32m---> 24\u001b[0m     result \u001b[38;5;241m=\u001b[39m \u001b[43mfunc\u001b[49m\u001b[43m(\u001b[49m\u001b[38;5;241;43m*\u001b[39;49m\u001b[43margs\u001b[49m\u001b[43m,\u001b[49m\u001b[43m \u001b[49m\u001b[38;5;241;43m*\u001b[39;49m\u001b[38;5;241;43m*\u001b[39;49m\u001b[43mkwargs\u001b[49m\u001b[43m)\u001b[49m\n\u001b[1;32m     25\u001b[0m     end_time \u001b[38;5;241m=\u001b[39m time\u001b[38;5;241m.\u001b[39mperf_counter()\n\u001b[1;32m     26\u001b[0m     total_time \u001b[38;5;241m=\u001b[39m end_time \u001b[38;5;241m-\u001b[39m start_time\n",
      "File \u001b[0;32m~/anaconda3/envs/daikiri/lib/python3.9/site-packages/dicee/trainer/dice_trainer.py:162\u001b[0m, in \u001b[0;36mDICE_Trainer.initialize_or_load_model\u001b[0;34m(self)\u001b[0m\n\u001b[1;32m    159\u001b[0m \u001b[38;5;129m@timeit\u001b[39m\n\u001b[1;32m    160\u001b[0m \u001b[38;5;28;01mdef\u001b[39;00m \u001b[38;5;21minitialize_or_load_model\u001b[39m(\u001b[38;5;28mself\u001b[39m):\n\u001b[1;32m    161\u001b[0m     \u001b[38;5;28mprint\u001b[39m(\u001b[38;5;124m'\u001b[39m\u001b[38;5;124mInitializing Model...\u001b[39m\u001b[38;5;124m'\u001b[39m, end\u001b[38;5;241m=\u001b[39m\u001b[38;5;124m'\u001b[39m\u001b[38;5;130;01m\\t\u001b[39;00m\u001b[38;5;124m'\u001b[39m)\n\u001b[0;32m--> 162\u001b[0m     model, form_of_labelling \u001b[38;5;241m=\u001b[39m \u001b[43mselect_model\u001b[49m\u001b[43m(\u001b[49m\u001b[38;5;28;43mvars\u001b[39;49m\u001b[43m(\u001b[49m\u001b[38;5;28;43mself\u001b[39;49m\u001b[38;5;241;43m.\u001b[39;49m\u001b[43margs\u001b[49m\u001b[43m)\u001b[49m\u001b[43m,\u001b[49m\u001b[43m \u001b[49m\u001b[38;5;28;43mself\u001b[39;49m\u001b[38;5;241;43m.\u001b[39;49m\u001b[43mis_continual_training\u001b[49m\u001b[43m,\u001b[49m\u001b[43m \u001b[49m\u001b[38;5;28;43mself\u001b[39;49m\u001b[38;5;241;43m.\u001b[39;49m\u001b[43mstorage_path\u001b[49m\u001b[43m)\u001b[49m\n\u001b[1;32m    163\u001b[0m     \u001b[38;5;28mself\u001b[39m\u001b[38;5;241m.\u001b[39mreport[\u001b[38;5;124m'\u001b[39m\u001b[38;5;124mform_of_labelling\u001b[39m\u001b[38;5;124m'\u001b[39m] \u001b[38;5;241m=\u001b[39m form_of_labelling\n\u001b[1;32m    164\u001b[0m     \u001b[38;5;28;01massert\u001b[39;00m form_of_labelling \u001b[38;5;129;01min\u001b[39;00m [\u001b[38;5;124m'\u001b[39m\u001b[38;5;124mEntityPrediction\u001b[39m\u001b[38;5;124m'\u001b[39m, \u001b[38;5;124m'\u001b[39m\u001b[38;5;124mRelationPrediction\u001b[39m\u001b[38;5;124m'\u001b[39m, \u001b[38;5;124m'\u001b[39m\u001b[38;5;124mPyke\u001b[39m\u001b[38;5;124m'\u001b[39m]\n",
      "File \u001b[0;32m~/anaconda3/envs/daikiri/lib/python3.9/site-packages/dicee/static_funcs.py:62\u001b[0m, in \u001b[0;36mselect_model\u001b[0;34m(args, is_continual_training, storage_path)\u001b[0m\n\u001b[1;32m     60\u001b[0m     \u001b[38;5;28;01mreturn\u001b[39;00m model, _\n\u001b[1;32m     61\u001b[0m \u001b[38;5;28;01melse\u001b[39;00m:\n\u001b[0;32m---> 62\u001b[0m     \u001b[38;5;28;01mreturn\u001b[39;00m \u001b[43mintialize_model\u001b[49m\u001b[43m(\u001b[49m\u001b[43margs\u001b[49m\u001b[43m)\u001b[49m\n",
      "File \u001b[0;32m~/anaconda3/envs/daikiri/lib/python3.9/site-packages/dicee/static_funcs.py:338\u001b[0m, in \u001b[0;36mintialize_model\u001b[0;34m(args)\u001b[0m\n\u001b[1;32m    335\u001b[0m     form_of_labelling \u001b[38;5;241m=\u001b[39m \u001b[38;5;124m'\u001b[39m\u001b[38;5;124mEntityPrediction\u001b[39m\u001b[38;5;124m'\u001b[39m\n\u001b[1;32m    336\u001b[0m \u001b[38;5;66;03m# elif for PYKEEN https://github.com/dice-group/dice-embeddings/issues/54\u001b[39;00m\n\u001b[1;32m    337\u001b[0m \u001b[38;5;28;01melse\u001b[39;00m:\n\u001b[0;32m--> 338\u001b[0m     \u001b[38;5;28;01mraise\u001b[39;00m \u001b[38;5;167;01mValueError\u001b[39;00m\n\u001b[1;32m    339\u001b[0m \u001b[38;5;28;01mreturn\u001b[39;00m model, form_of_labelling\n",
      "\u001b[0;31mValueError\u001b[0m: "
     ]
    }
   ],
   "source": [
    "report=executor.start()"
   ]
  },
  {
   "cell_type": "code",
   "execution_count": 7,
   "id": "e561c776",
   "metadata": {},
   "outputs": [
    {
     "data": {
      "text/plain": [
       "{'num_train_triples': 10432,\n",
       " 'num_entities': 135,\n",
       " 'num_relations': 92,\n",
       " 'EstimatedSizeMB': 0.13260650634765625,\n",
       " 'NumParam': 138784,\n",
       " 'path_experiment_folder': '/home/demir/Desktop/Softwares/dice-embeddings/examples/Experiments/2023-04-05 12:59:36.749715',\n",
       " 'Runtime': 28.33254861831665,\n",
       " 'Train': {'H@1': 0.8515145705521472,\n",
       "  'H@3': 0.9526457055214724,\n",
       "  'H@10': 0.9818826687116564,\n",
       "  'MRR': 0.9049869811033961},\n",
       " 'Val': {'H@1': 0.6694785276073619,\n",
       "  'H@3': 0.8351226993865031,\n",
       "  'H@10': 0.9386503067484663,\n",
       "  'MRR': 0.7677471996019155},\n",
       " 'Test': {'H@1': 0.6717095310136157,\n",
       "  'H@3': 0.8562783661119516,\n",
       "  'H@10': 0.9402420574886535,\n",
       "  'MRR': 0.771550307601881}}"
      ]
     },
     "execution_count": 7,
     "metadata": {},
     "output_type": "execute_result"
    }
   ],
   "source": [
    "report"
   ]
  },
  {
   "cell_type": "markdown",
   "id": "8048736e",
   "metadata": {},
   "source": [
    "# How to Eval"
   ]
  },
  {
   "cell_type": "code",
   "execution_count": 8,
   "id": "96c6dabd",
   "metadata": {},
   "outputs": [
    {
     "name": "stdout",
     "output_type": "stream",
     "text": [
      "Loading model model.pt... Done! It took 0.002\n",
      "Loading entity and relation indexes... Done! It took 0.0002\n",
      "Loading indexed training data...\n"
     ]
    }
   ],
   "source": [
    "pre_trained_model=KGE(path=report['path_experiment_folder'])"
   ]
  },
  {
   "cell_type": "code",
   "execution_count": 9,
   "id": "d9e5cb4d",
   "metadata": {},
   "outputs": [
    {
     "data": {
      "text/plain": [
       "(tensor([0.9401, 0.9305, 0.8677, 0.8673, 0.8347, 0.6596, 0.4561, 0.3340, 0.1839,\n",
       "         0.1810]),\n",
       " ['family_group',\n",
       "  'professional_or_occupational_group',\n",
       "  'population_group',\n",
       "  'group',\n",
       "  'age_group',\n",
       "  'patient_or_disabled_group',\n",
       "  'carbohydrate_sequence',\n",
       "  'geographic_area',\n",
       "  'sign_or_symptom',\n",
       "  'qualitative_concept'])"
      ]
     },
     "execution_count": 9,
     "metadata": {},
     "output_type": "execute_result"
    }
   ],
   "source": [
    "pre_trained_model.topk(head_entity='behavior',relation='associated_with',k=10)"
   ]
  },
  {
   "cell_type": "code",
   "execution_count": 10,
   "id": "331f6f89",
   "metadata": {
    "pycharm": {
     "name": "#%%\n"
    }
   },
   "outputs": [
    {
     "name": "stdout",
     "output_type": "stream",
     "text": [
      "Number of entities:135 \t Number of relations:92\n",
      "Finding missing triples..\n",
      "Number of found missing triples: 1\n"
     ]
    },
    {
     "data": {
      "text/plain": [
       "{('behavior', 'associated_with', 'age_group')}"
      ]
     },
     "execution_count": 10,
     "metadata": {},
     "output_type": "execute_result"
    }
   ],
   "source": [
    "pre_trained_model.find_missing_triples(confidence=0.8,\n",
    "                                       entities=['behavior'],\n",
    "                                       relations=['associated_with'],topk=10)"
   ]
  },
  {
   "cell_type": "code",
   "execution_count": 11,
   "id": "a60dce9d",
   "metadata": {},
   "outputs": [
    {
     "name": "stdout",
     "output_type": "stream",
     "text": [
      "'2023-04-05 12:59:36.749715'\n"
     ]
    }
   ],
   "source": [
    "# Data is already saved\n",
    "!ls Experiments"
   ]
  },
  {
   "cell_type": "markdown",
   "id": "97fc46d4",
   "metadata": {},
   "source": [
    "# How to deploy"
   ]
  },
  {
   "cell_type": "code",
   "execution_count": null,
   "id": "6ab54c45",
   "metadata": {},
   "outputs": [],
   "source": [
    "# Pretrained model can be used with anyone\n",
    "pre_trained_model.deploy(share=True,top_k=10)"
   ]
  }
 ],
 "metadata": {
  "kernelspec": {
   "display_name": "dicee",
   "language": "python",
   "name": "dicee"
  },
  "language_info": {
   "codemirror_mode": {
    "name": "ipython",
    "version": 3
   },
   "file_extension": ".py",
   "mimetype": "text/x-python",
   "name": "python",
   "nbconvert_exporter": "python",
   "pygments_lexer": "ipython3",
   "version": "3.9.7"
  }
 },
 "nbformat": 4,
 "nbformat_minor": 5
}
